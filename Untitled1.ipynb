{
 "cells": [
  {
   "cell_type": "code",
   "execution_count": 1,
   "id": "db9e3cbc",
   "metadata": {},
   "outputs": [],
   "source": [
    "import io\n",
    "from typing import List, Tuple\n",
    "import cv2\n",
    "import numpy as np\n",
    "import uvicorn\n",
    "from fastapi import FastAPI, File\n",
    "from numpy import ndarray\n",
    "from PIL import Image"
   ]
  },
  {
   "cell_type": "code",
   "execution_count": 2,
   "id": "1c99dcf4",
   "metadata": {},
   "outputs": [],
   "source": [
    "class Detection:\n",
    " def __init__(self, \n",
    "      model_path: str, \n",
    "   classes: List[str]\n",
    "  ):\n",
    "  self.model_path = model_path\n",
    "  self.classes = classes\n",
    "  self.model = self.__load_model()\n",
    "\n",
    " def __load_model(self) -> cv2.dnn_Net:\n",
    "  net = cv2.dnn.readNet(self.model_path)\n",
    "  net.setPreferableTarget(cv2.dnn.DNN_TARGET_CUDA_FP16)\n",
    "  net.setPreferableTarget(cv2.dnn.DNN_TARGET_CPU)\n",
    "  return net\n",
    "\n",
    " def __extract_ouput(self, \n",
    "      preds: ndarray, \n",
    "   image_shape: Tuple[int, int], \n",
    "   input_shape: Tuple[int, int],\n",
    "   score: float=0.1,\n",
    "   nms: float=0.0, \n",
    "   confidence: float=0.0\n",
    "  ) -> dict[list, list, list]:\n",
    "  class_ids, confs, boxes = list(), list(), list()\n",
    "\n",
    "  image_height, image_width = image_shape\n",
    "  input_height, input_width = input_shape\n",
    "  x_factor = image_width / input_width\n",
    "  y_factor = image_height / input_height\n",
    "  \n",
    "  rows = preds[0].shape[0]\n",
    "  for i in range(rows):\n",
    "   row = preds[0][i]\n",
    "   conf = row[4]\n",
    "   \n",
    "   classes_score = row[4:]\n",
    "   _,_,_, max_idx = cv2.minMaxLoc(classes_score)\n",
    "   class_id = max_idx[1]\n",
    "   # print(classes_score[class_id])\n",
    "   if (classes_score[class_id] > score):\n",
    "    confs.append(conf)\n",
    "    label = self.classes[int(class_id)]\n",
    "    class_ids.append(label)\n",
    "    \n",
    "    #extract boxes\n",
    "    x, y, w, h = row[0].item(), row[1].item(), row[2].item(), row[3].item() \n",
    "    left = int((x - 0.5 * w) * x_factor)\n",
    "    top = int((y - 0.5 * h) * y_factor)\n",
    "    width = int(w * x_factor)\n",
    "    height = int(h * y_factor)\n",
    "    box = np.array([left, top, width, height])\n",
    "    boxes.append(box)\n",
    "\n",
    "  r_class_ids, r_confs, r_boxes = list(), list(), list()\n",
    "  indexes = cv2.dnn.NMSBoxes(boxes, confs, confidence, nms) \n",
    "  for i in indexes:\n",
    "   r_class_ids.append(class_ids[i])\n",
    "   r_confs.append(confs[i]*100)\n",
    "   r_boxes.append(boxes[i].tolist())\n",
    "\n",
    "  return {\n",
    "   'boxes' : r_boxes, \n",
    "   'confidences': r_confs, \n",
    "   'classes': r_class_ids\n",
    "  }\n",
    "\n",
    " def __call__(self,\n",
    "   image: ndarray, \n",
    "   width: int=640, \n",
    "   height: int=640, \n",
    "   score: float=0.1,\n",
    "   nms: float=0.0, \n",
    "   confidence: float=0.0\n",
    "  )-> dict[list, list, list]:\n",
    "  \n",
    "  blob = cv2.dnn.blobFromImage(\n",
    "     image, 1/255.0, (width, height), \n",
    "     swapRB=True, crop=False\n",
    "    )\n",
    "  self.model.setInput(blob)\n",
    "  preds = self.model.forward()\n",
    "  preds = preds.transpose((0, 2, 1))\n",
    "\n",
    "  # extract output\n",
    "  results = self.__extract_ouput(\n",
    "   preds=preds,\n",
    "   image_shape=image.shape[:2],\n",
    "   input_shape=(height, width),\n",
    "   score=score,\n",
    "   nms=nms,\n",
    "   confidence=confidence\n",
    "  )\n",
    "  return results"
   ]
  },
  {
   "cell_type": "code",
   "execution_count": 3,
   "id": "76e4e9d7",
   "metadata": {},
   "outputs": [],
   "source": [
    "CLASSES_YOLO = ['damaged door', 'damaged window', 'damaged headlight', 'damaged mirror', 'dent', 'damaged hood', 'damaged bumper', 'damaged wind shield']"
   ]
  },
  {
   "cell_type": "code",
   "execution_count": 5,
   "id": "3f471f4c",
   "metadata": {},
   "outputs": [],
   "source": [
    "detection = Detection(\n",
    "   model_path='best.onnx', \n",
    "   classes=CLASSES_YOLO\n",
    ")"
   ]
  },
  {
   "cell_type": "code",
   "execution_count": 6,
   "id": "08b7ce33",
   "metadata": {},
   "outputs": [],
   "source": [
    "app = FastAPI()\n",
    "@app.post('/detection')\n",
    "def post_detection(file: bytes = File(...)):\n",
    "   image = Image.open(io.BytesIO(file)).convert(\"RGB\")\n",
    "   image = np.array(image)\n",
    "   image = image[:,:,::-1].copy()\n",
    "   results = detection(image)\n",
    "   return results"
   ]
  },
  {
   "cell_type": "code",
   "execution_count": 7,
   "id": "9594624a",
   "metadata": {},
   "outputs": [
    {
     "ename": "RuntimeError",
     "evalue": "asyncio.run() cannot be called from a running event loop",
     "output_type": "error",
     "traceback": [
      "\u001b[0;31m---------------------------------------------------------------------------\u001b[0m",
      "\u001b[0;31mRuntimeError\u001b[0m                              Traceback (most recent call last)",
      "Cell \u001b[0;32mIn[7], line 2\u001b[0m\n\u001b[1;32m      1\u001b[0m \u001b[38;5;28;01mif\u001b[39;00m \u001b[38;5;18m__name__\u001b[39m \u001b[38;5;241m==\u001b[39m \u001b[38;5;124m'\u001b[39m\u001b[38;5;124m__main__\u001b[39m\u001b[38;5;124m'\u001b[39m:\n\u001b[0;32m----> 2\u001b[0m     \u001b[43muvicorn\u001b[49m\u001b[38;5;241;43m.\u001b[39;49m\u001b[43mrun\u001b[49m\u001b[43m(\u001b[49m\u001b[38;5;124;43m\"\u001b[39;49m\u001b[38;5;124;43mmain:app\u001b[39;49m\u001b[38;5;124;43m\"\u001b[39;49m\u001b[43m,\u001b[49m\u001b[43m \u001b[49m\u001b[43mhost\u001b[49m\u001b[38;5;241;43m=\u001b[39;49m\u001b[38;5;124;43m\"\u001b[39;49m\u001b[38;5;124;43m0.0.0.0\u001b[39;49m\u001b[38;5;124;43m\"\u001b[39;49m\u001b[43m,\u001b[49m\u001b[43m \u001b[49m\u001b[43mport\u001b[49m\u001b[38;5;241;43m=\u001b[39;49m\u001b[38;5;241;43m8080\u001b[39;49m\u001b[43m)\u001b[49m\n",
      "File \u001b[0;32m~/.local/lib/python3.10/site-packages/uvicorn/main.py:568\u001b[0m, in \u001b[0;36mrun\u001b[0;34m(app, host, port, uds, fd, loop, http, ws, ws_max_size, ws_ping_interval, ws_ping_timeout, ws_per_message_deflate, lifespan, interface, reload, reload_dirs, reload_includes, reload_excludes, reload_delay, workers, env_file, log_config, log_level, access_log, proxy_headers, server_header, date_header, forwarded_allow_ips, root_path, limit_concurrency, backlog, limit_max_requests, timeout_keep_alive, ssl_keyfile, ssl_certfile, ssl_keyfile_password, ssl_version, ssl_cert_reqs, ssl_ca_certs, ssl_ciphers, headers, use_colors, app_dir, factory, h11_max_incomplete_event_size)\u001b[0m\n\u001b[1;32m    566\u001b[0m     Multiprocess(config, target\u001b[38;5;241m=\u001b[39mserver\u001b[38;5;241m.\u001b[39mrun, sockets\u001b[38;5;241m=\u001b[39m[sock])\u001b[38;5;241m.\u001b[39mrun()\n\u001b[1;32m    567\u001b[0m \u001b[38;5;28;01melse\u001b[39;00m:\n\u001b[0;32m--> 568\u001b[0m     \u001b[43mserver\u001b[49m\u001b[38;5;241;43m.\u001b[39;49m\u001b[43mrun\u001b[49m\u001b[43m(\u001b[49m\u001b[43m)\u001b[49m\n\u001b[1;32m    569\u001b[0m \u001b[38;5;28;01mif\u001b[39;00m config\u001b[38;5;241m.\u001b[39muds \u001b[38;5;129;01mand\u001b[39;00m os\u001b[38;5;241m.\u001b[39mpath\u001b[38;5;241m.\u001b[39mexists(config\u001b[38;5;241m.\u001b[39muds):\n\u001b[1;32m    570\u001b[0m     os\u001b[38;5;241m.\u001b[39mremove(config\u001b[38;5;241m.\u001b[39muds)  \u001b[38;5;66;03m# pragma: py-win32\u001b[39;00m\n",
      "File \u001b[0;32m~/.local/lib/python3.10/site-packages/uvicorn/server.py:59\u001b[0m, in \u001b[0;36mServer.run\u001b[0;34m(self, sockets)\u001b[0m\n\u001b[1;32m     57\u001b[0m \u001b[38;5;28;01mdef\u001b[39;00m \u001b[38;5;21mrun\u001b[39m(\u001b[38;5;28mself\u001b[39m, sockets: Optional[List[socket\u001b[38;5;241m.\u001b[39msocket]] \u001b[38;5;241m=\u001b[39m \u001b[38;5;28;01mNone\u001b[39;00m) \u001b[38;5;241m-\u001b[39m\u001b[38;5;241m>\u001b[39m \u001b[38;5;28;01mNone\u001b[39;00m:\n\u001b[1;32m     58\u001b[0m     \u001b[38;5;28mself\u001b[39m\u001b[38;5;241m.\u001b[39mconfig\u001b[38;5;241m.\u001b[39msetup_event_loop()\n\u001b[0;32m---> 59\u001b[0m     \u001b[38;5;28;01mreturn\u001b[39;00m \u001b[43masyncio\u001b[49m\u001b[38;5;241;43m.\u001b[39;49m\u001b[43mrun\u001b[49m\u001b[43m(\u001b[49m\u001b[38;5;28;43mself\u001b[39;49m\u001b[38;5;241;43m.\u001b[39;49m\u001b[43mserve\u001b[49m\u001b[43m(\u001b[49m\u001b[43msockets\u001b[49m\u001b[38;5;241;43m=\u001b[39;49m\u001b[43msockets\u001b[49m\u001b[43m)\u001b[49m\u001b[43m)\u001b[49m\n",
      "File \u001b[0;32m/usr/lib/python3.10/asyncio/runners.py:33\u001b[0m, in \u001b[0;36mrun\u001b[0;34m(main, debug)\u001b[0m\n\u001b[1;32m      9\u001b[0m \u001b[38;5;250m\u001b[39m\u001b[38;5;124;03m\"\"\"Execute the coroutine and return the result.\u001b[39;00m\n\u001b[1;32m     10\u001b[0m \n\u001b[1;32m     11\u001b[0m \u001b[38;5;124;03mThis function runs the passed coroutine, taking care of\u001b[39;00m\n\u001b[0;32m   (...)\u001b[0m\n\u001b[1;32m     30\u001b[0m \u001b[38;5;124;03m    asyncio.run(main())\u001b[39;00m\n\u001b[1;32m     31\u001b[0m \u001b[38;5;124;03m\"\"\"\u001b[39;00m\n\u001b[1;32m     32\u001b[0m \u001b[38;5;28;01mif\u001b[39;00m events\u001b[38;5;241m.\u001b[39m_get_running_loop() \u001b[38;5;129;01mis\u001b[39;00m \u001b[38;5;129;01mnot\u001b[39;00m \u001b[38;5;28;01mNone\u001b[39;00m:\n\u001b[0;32m---> 33\u001b[0m     \u001b[38;5;28;01mraise\u001b[39;00m \u001b[38;5;167;01mRuntimeError\u001b[39;00m(\n\u001b[1;32m     34\u001b[0m         \u001b[38;5;124m\"\u001b[39m\u001b[38;5;124masyncio.run() cannot be called from a running event loop\u001b[39m\u001b[38;5;124m\"\u001b[39m)\n\u001b[1;32m     36\u001b[0m \u001b[38;5;28;01mif\u001b[39;00m \u001b[38;5;129;01mnot\u001b[39;00m coroutines\u001b[38;5;241m.\u001b[39miscoroutine(main):\n\u001b[1;32m     37\u001b[0m     \u001b[38;5;28;01mraise\u001b[39;00m \u001b[38;5;167;01mValueError\u001b[39;00m(\u001b[38;5;124m\"\u001b[39m\u001b[38;5;124ma coroutine was expected, got \u001b[39m\u001b[38;5;132;01m{!r}\u001b[39;00m\u001b[38;5;124m\"\u001b[39m\u001b[38;5;241m.\u001b[39mformat(main))\n",
      "\u001b[0;31mRuntimeError\u001b[0m: asyncio.run() cannot be called from a running event loop"
     ]
    }
   ],
   "source": [
    "if __name__ == '__main__':\n",
    "    uvicorn.run(\"main:app\", host=\"0.0.0.0\", port=8080)"
   ]
  },
  {
   "cell_type": "code",
   "execution_count": null,
   "id": "edb736b9",
   "metadata": {},
   "outputs": [],
   "source": []
  }
 ],
 "metadata": {
  "kernelspec": {
   "display_name": "Python 3 (ipykernel)",
   "language": "python",
   "name": "python3"
  },
  "language_info": {
   "codemirror_mode": {
    "name": "ipython",
    "version": 3
   },
   "file_extension": ".py",
   "mimetype": "text/x-python",
   "name": "python",
   "nbconvert_exporter": "python",
   "pygments_lexer": "ipython3",
   "version": "3.10.6"
  }
 },
 "nbformat": 4,
 "nbformat_minor": 5
}
